{
 "cells": [
  {
   "cell_type": "code",
   "execution_count": 3,
   "metadata": {},
   "outputs": [
    {
     "name": "stdout",
     "output_type": "stream",
     "text": [
      "hello world\n"
     ]
    }
   ],
   "source": [
    "a=\"hello world\"\n",
    "print(a)"
   ]
  },
  {
   "cell_type": "code",
   "execution_count": 4,
   "metadata": {},
   "outputs": [
    {
     "ename": "SyntaxError",
     "evalue": "invalid syntax (<ipython-input-4-c77ead32db6e>, line 4)",
     "output_type": "error",
     "traceback": [
      "\u001b[1;36m  File \u001b[1;32m\"<ipython-input-4-c77ead32db6e>\"\u001b[1;36m, line \u001b[1;32m4\u001b[0m\n\u001b[1;33m    -high level, interpreted,interactive, obj oriented scripting language.\u001b[0m\n\u001b[1;37m          ^\u001b[0m\n\u001b[1;31mSyntaxError\u001b[0m\u001b[1;31m:\u001b[0m invalid syntax\n"
     ]
    }
   ],
   "source": [
    "                                                    PYTHON\n",
    "    \n",
    "    \n",
    "-high level, interpreted,interactive, obj oriented scripting language.\n",
    "-highly readable.\n",
    "-developed by guido van rossum in late eighties in netherland.\n",
    "-derived from many other languages.\n",
    "-copyrighted.\n",
    "-source code available under GNU(GENERAL PUBLIC LICENSE).\n",
    "-few keywords, simple structure, clearly defined syntax.\n",
    "-easy to maintain.\n",
    "-provide interfaces to all commercial databases.\n",
    "-supports functional and structured programming methods as well as oop.\n",
    "-used as scripting language.\n",
    "-provides very high level dynamic data type and supports dynamic type checking.\n",
    "-supports automatic garbage collection.\n",
    "-easily integrated with c, c++,cobra , java.\n",
    "\n",
    "\n",
    "\n",
    "=>LIST OF ALL AVAILABLE COMMAND LINE.....\n",
    "\n",
    "    -d - provides debug output.\n",
    "    -O - generates optimized bytecode(resulting in .pyo files).\n",
    "    -S - do not run to import site to look for python paths on startup.\n",
    "    -v - verbose output(detailed strace on import statements).\n",
    "    -c cmd - run PYTHON script sent in as cmd string.\n",
    "    -file - run PYTHON script from given file.\n",
    "\n"
   ]
  },
  {
   "cell_type": "code",
   "execution_count": 5,
   "metadata": {},
   "outputs": [
    {
     "ename": "SyntaxError",
     "evalue": "invalid syntax (<ipython-input-5-8aa5958414cd>, line 1)",
     "output_type": "error",
     "traceback": [
      "\u001b[1;36m  File \u001b[1;32m\"<ipython-input-5-8aa5958414cd>\"\u001b[1;36m, line \u001b[1;32m1\u001b[0m\n\u001b[1;33m    PYTHON IDENTIFIER\u001b[0m\n\u001b[1;37m           ^\u001b[0m\n\u001b[1;31mSyntaxError\u001b[0m\u001b[1;31m:\u001b[0m invalid syntax\n"
     ]
    }
   ],
   "source": [
    "                                                PYTHON IDENTIFIER\n",
    "    \n",
    "-use to identify name, function, class, module, or other object.\n",
    "-start with letter A to Z or a to z or underscore(_) followed by zero or more letters or digits(0-9).\n",
    "-python does not allow punctuation characters such as @,$ and % within identifiers.\n",
    "-Class name start with uppercase.\n",
    "-all other identifier start with lowercase.\n",
    "-identifier start with single underscore(_) indicates private identifier.\n",
    "-starting identifier with two leading underscore strongly private identifier.\n"
   ]
  },
  {
   "cell_type": "code",
   "execution_count": 6,
   "metadata": {},
   "outputs": [
    {
     "ename": "SyntaxError",
     "evalue": "invalid syntax (<ipython-input-6-e94e18966bb6>, line 1)",
     "output_type": "error",
     "traceback": [
      "\u001b[1;36m  File \u001b[1;32m\"<ipython-input-6-e94e18966bb6>\"\u001b[1;36m, line \u001b[1;32m1\u001b[0m\n\u001b[1;33m    PYTHON KEYWORDS\u001b[0m\n\u001b[1;37m           ^\u001b[0m\n\u001b[1;31mSyntaxError\u001b[0m\u001b[1;31m:\u001b[0m invalid syntax\n"
     ]
    }
   ],
   "source": [
    "                                                 PYTHON KEYWORDS\n",
    "    \n",
    "-reserved words.\n",
    "-one cannot use them as constant or variable or any other identifier names.\n",
    "-contain lowercase letters only.\n",
    "\n"
   ]
  },
  {
   "cell_type": "code",
   "execution_count": 7,
   "metadata": {},
   "outputs": [
    {
     "ename": "SyntaxError",
     "evalue": "invalid syntax (<ipython-input-7-12f49a8dbb71>, line 3)",
     "output_type": "error",
     "traceback": [
      "\u001b[1;36m  File \u001b[1;32m\"<ipython-input-7-12f49a8dbb71>\"\u001b[1;36m, line \u001b[1;32m3\u001b[0m\n\u001b[1;33m    -blocks of code denoted by line indentation,which is rigidly enforced.\u001b[0m\n\u001b[1;37m            ^\u001b[0m\n\u001b[1;31mSyntaxError\u001b[0m\u001b[1;31m:\u001b[0m invalid syntax\n"
     ]
    }
   ],
   "source": [
    "                                                lines and indentation\n",
    "    \n",
    "-blocks of code denoted by line indentation,which is rigidly enforced.\n",
    "-no. of spaces in indentation is variable.\n",
    "-all statement within the block must be indented the same amount.\n",
    "\n"
   ]
  },
  {
   "cell_type": "code",
   "execution_count": 8,
   "metadata": {},
   "outputs": [
    {
     "ename": "SyntaxError",
     "evalue": "invalid syntax (<ipython-input-8-0144282e13b9>, line 1)",
     "output_type": "error",
     "traceback": [
      "\u001b[1;36m  File \u001b[1;32m\"<ipython-input-8-0144282e13b9>\"\u001b[1;36m, line \u001b[1;32m1\u001b[0m\n\u001b[1;33m    multi-line statement\u001b[0m\n\u001b[1;37m               ^\u001b[0m\n\u001b[1;31mSyntaxError\u001b[0m\u001b[1;31m:\u001b[0m invalid syntax\n"
     ]
    }
   ],
   "source": [
    "                                                multi-line statement\n",
    "    \n",
    "-python allows use of line continuation character (\\) to denote  that line should be continue.\n",
    "\n",
    "ex.-\n",
    "     total = item_one + \\\n",
    "             item_two + \\\n",
    "             item_three\n",
    "    \n",
    "-statement contained within {}[]() brackets do not need to use line continuation character.\n",
    "\n",
    "ex.-\n",
    "     days = ['monday', 'tuesday', 'wednesday',\n",
    "            'thursday', 'friday']\n",
    "    \n",
    "    "
   ]
  },
  {
   "cell_type": "code",
   "execution_count": null,
   "metadata": {},
   "outputs": [],
   "source": []
  }
 ],
 "metadata": {
  "kernelspec": {
   "display_name": "Python 3",
   "language": "python",
   "name": "python3"
  },
  "language_info": {
   "codemirror_mode": {
    "name": "ipython",
    "version": 3
   },
   "file_extension": ".py",
   "mimetype": "text/x-python",
   "name": "python",
   "nbconvert_exporter": "python",
   "pygments_lexer": "ipython3",
   "version": "3.8.5"
  }
 },
 "nbformat": 4,
 "nbformat_minor": 4
}
